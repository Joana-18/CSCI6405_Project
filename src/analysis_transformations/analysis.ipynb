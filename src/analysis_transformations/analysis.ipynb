{
 "cells": [
  {
   "cell_type": "code",
   "execution_count": 1,
   "metadata": {},
   "outputs": [],
   "source": [
    "import pandas as pd\n",
    "from sklearn.feature_extraction.text import TfidfVectorizer\n",
    "from collections import Counter\n",
    "import os\n",
    "import numpy as np\n",
    "from wordcloud import WordCloud\n",
    "import nltk\n",
    "from nltk.corpus import stopwords\n",
    "from nltk.stem import PorterStemmer, WordNetLemmatizer\n",
    "import re"
   ]
  },
  {
   "cell_type": "markdown",
   "metadata": {},
   "source": [
    "### Read Data"
   ]
  },
  {
   "cell_type": "code",
   "execution_count": 2,
   "metadata": {},
   "outputs": [
    {
     "data": {
      "text/html": [
       "<div>\n",
       "<style scoped>\n",
       "    .dataframe tbody tr th:only-of-type {\n",
       "        vertical-align: middle;\n",
       "    }\n",
       "\n",
       "    .dataframe tbody tr th {\n",
       "        vertical-align: top;\n",
       "    }\n",
       "\n",
       "    .dataframe thead th {\n",
       "        text-align: right;\n",
       "    }\n",
       "</style>\n",
       "<table border=\"1\" class=\"dataframe\">\n",
       "  <thead>\n",
       "    <tr style=\"text-align: right;\">\n",
       "      <th></th>\n",
       "      <th>id</th>\n",
       "      <th>title</th>\n",
       "      <th>author</th>\n",
       "      <th>author_id</th>\n",
       "      <th>author_karma</th>\n",
       "      <th>author_flair</th>\n",
       "      <th>upvotes</th>\n",
       "      <th>score</th>\n",
       "      <th>upvote_ratio</th>\n",
       "      <th>post_ts</th>\n",
       "      <th>...</th>\n",
       "      <th>comments</th>\n",
       "      <th>nsfw</th>\n",
       "      <th>self_text</th>\n",
       "      <th>spoiler</th>\n",
       "      <th>stickied</th>\n",
       "      <th>subreddit</th>\n",
       "      <th>subreddit_id</th>\n",
       "      <th>subreddit_subs</th>\n",
       "      <th>url</th>\n",
       "      <th>category</th>\n",
       "    </tr>\n",
       "  </thead>\n",
       "  <tbody>\n",
       "    <tr>\n",
       "      <th>0</th>\n",
       "      <td>18qa8qj</td>\n",
       "      <td>I’m depressed and anxious this Christmas</td>\n",
       "      <td>mrsunsfan</td>\n",
       "      <td>8kdawssf</td>\n",
       "      <td>320425.0</td>\n",
       "      <td>NaN</td>\n",
       "      <td>0</td>\n",
       "      <td>0</td>\n",
       "      <td>0.49</td>\n",
       "      <td>1.703474e+09</td>\n",
       "      <td>...</td>\n",
       "      <td>29</td>\n",
       "      <td>False</td>\n",
       "      <td>I’ve been struggling since my ex broke up with...</td>\n",
       "      <td>False</td>\n",
       "      <td>False</td>\n",
       "      <td>Anxiety</td>\n",
       "      <td>2qmij</td>\n",
       "      <td>661128</td>\n",
       "      <td>https://www.reddit.com/r/Anxiety/comments/18qa...</td>\n",
       "      <td>Controversial</td>\n",
       "    </tr>\n",
       "    <tr>\n",
       "      <th>1</th>\n",
       "      <td>120xdga</td>\n",
       "      <td>Today i was at a neurologist and i told him th...</td>\n",
       "      <td>useralreadyused</td>\n",
       "      <td>g3wz23b7</td>\n",
       "      <td>144.0</td>\n",
       "      <td>NaN</td>\n",
       "      <td>0</td>\n",
       "      <td>0</td>\n",
       "      <td>0.49</td>\n",
       "      <td>1.679690e+09</td>\n",
       "      <td>...</td>\n",
       "      <td>85</td>\n",
       "      <td>False</td>\n",
       "      <td>NaN</td>\n",
       "      <td>False</td>\n",
       "      <td>False</td>\n",
       "      <td>Anxiety</td>\n",
       "      <td>2qmij</td>\n",
       "      <td>661128</td>\n",
       "      <td>https://www.reddit.com/r/Anxiety/comments/120x...</td>\n",
       "      <td>Controversial</td>\n",
       "    </tr>\n",
       "    <tr>\n",
       "      <th>2</th>\n",
       "      <td>1902yq0</td>\n",
       "      <td>Do you watch porn?</td>\n",
       "      <td>Admirable_Strike4114</td>\n",
       "      <td>cpd2lm0x</td>\n",
       "      <td>1836.0</td>\n",
       "      <td>NaN</td>\n",
       "      <td>3</td>\n",
       "      <td>3</td>\n",
       "      <td>0.54</td>\n",
       "      <td>1.704557e+09</td>\n",
       "      <td>...</td>\n",
       "      <td>22</td>\n",
       "      <td>False</td>\n",
       "      <td>Pornography is the worst factor that aggravate...</td>\n",
       "      <td>False</td>\n",
       "      <td>False</td>\n",
       "      <td>Anxiety</td>\n",
       "      <td>2qmij</td>\n",
       "      <td>661128</td>\n",
       "      <td>https://www.reddit.com/r/Anxiety/comments/1902...</td>\n",
       "      <td>Controversial</td>\n",
       "    </tr>\n",
       "    <tr>\n",
       "      <th>3</th>\n",
       "      <td>roksot</td>\n",
       "      <td>Welp guess I’ll die a virgin</td>\n",
       "      <td>ThrowawayT0</td>\n",
       "      <td>NaN</td>\n",
       "      <td>-inf</td>\n",
       "      <td>NaN</td>\n",
       "      <td>1</td>\n",
       "      <td>1</td>\n",
       "      <td>0.52</td>\n",
       "      <td>1.640478e+09</td>\n",
       "      <td>...</td>\n",
       "      <td>52</td>\n",
       "      <td>False</td>\n",
       "      <td>\\nLady who I thought was flirting well... she ...</td>\n",
       "      <td>False</td>\n",
       "      <td>False</td>\n",
       "      <td>Anxiety</td>\n",
       "      <td>2qmij</td>\n",
       "      <td>661128</td>\n",
       "      <td>https://www.reddit.com/r/Anxiety/comments/roks...</td>\n",
       "      <td>Controversial</td>\n",
       "    </tr>\n",
       "    <tr>\n",
       "      <th>4</th>\n",
       "      <td>2kvv6z</td>\n",
       "      <td>[Rant] So today I saw a guy in town dressed a ...</td>\n",
       "      <td>tumblingturtle</td>\n",
       "      <td>in9cu</td>\n",
       "      <td>15.0</td>\n",
       "      <td>NaN</td>\n",
       "      <td>2</td>\n",
       "      <td>2</td>\n",
       "      <td>0.52</td>\n",
       "      <td>1.414764e+09</td>\n",
       "      <td>...</td>\n",
       "      <td>17</td>\n",
       "      <td>False</td>\n",
       "      <td>So there I was walking through town, noticed s...</td>\n",
       "      <td>False</td>\n",
       "      <td>False</td>\n",
       "      <td>Anxiety</td>\n",
       "      <td>2qmij</td>\n",
       "      <td>661128</td>\n",
       "      <td>https://www.reddit.com/r/Anxiety/comments/2kvv...</td>\n",
       "      <td>Controversial</td>\n",
       "    </tr>\n",
       "  </tbody>\n",
       "</table>\n",
       "<p>5 rows × 26 columns</p>\n",
       "</div>"
      ],
      "text/plain": [
       "        id                                              title  \\\n",
       "0  18qa8qj           I’m depressed and anxious this Christmas   \n",
       "1  120xdga  Today i was at a neurologist and i told him th...   \n",
       "2  1902yq0                                 Do you watch porn?   \n",
       "3   roksot                       Welp guess I’ll die a virgin   \n",
       "4   2kvv6z  [Rant] So today I saw a guy in town dressed a ...   \n",
       "\n",
       "                 author author_id  author_karma author_flair  upvotes  score  \\\n",
       "0             mrsunsfan  8kdawssf      320425.0          NaN        0      0   \n",
       "1       useralreadyused  g3wz23b7         144.0          NaN        0      0   \n",
       "2  Admirable_Strike4114  cpd2lm0x        1836.0          NaN        3      3   \n",
       "3           ThrowawayT0       NaN          -inf          NaN        1      1   \n",
       "4        tumblingturtle     in9cu          15.0          NaN        2      2   \n",
       "\n",
       "   upvote_ratio       post_ts  ... comments   nsfw  \\\n",
       "0          0.49  1.703474e+09  ...       29  False   \n",
       "1          0.49  1.679690e+09  ...       85  False   \n",
       "2          0.54  1.704557e+09  ...       22  False   \n",
       "3          0.52  1.640478e+09  ...       52  False   \n",
       "4          0.52  1.414764e+09  ...       17  False   \n",
       "\n",
       "                                           self_text  spoiler  stickied  \\\n",
       "0  I’ve been struggling since my ex broke up with...    False     False   \n",
       "1                                                NaN    False     False   \n",
       "2  Pornography is the worst factor that aggravate...    False     False   \n",
       "3  \\nLady who I thought was flirting well... she ...    False     False   \n",
       "4  So there I was walking through town, noticed s...    False     False   \n",
       "\n",
       "  subreddit  subreddit_id  subreddit_subs  \\\n",
       "0   Anxiety         2qmij          661128   \n",
       "1   Anxiety         2qmij          661128   \n",
       "2   Anxiety         2qmij          661128   \n",
       "3   Anxiety         2qmij          661128   \n",
       "4   Anxiety         2qmij          661128   \n",
       "\n",
       "                                                 url       category  \n",
       "0  https://www.reddit.com/r/Anxiety/comments/18qa...  Controversial  \n",
       "1  https://www.reddit.com/r/Anxiety/comments/120x...  Controversial  \n",
       "2  https://www.reddit.com/r/Anxiety/comments/1902...  Controversial  \n",
       "3  https://www.reddit.com/r/Anxiety/comments/roks...  Controversial  \n",
       "4  https://www.reddit.com/r/Anxiety/comments/2kvv...  Controversial  \n",
       "\n",
       "[5 rows x 26 columns]"
      ]
     },
     "execution_count": 2,
     "metadata": {},
     "output_type": "execute_result"
    }
   ],
   "source": [
    "df = pd.read_csv(r\"C:\\\\Users\\\\joana\\\\Documents\\\\GitHub\\\\CSCI6405\\\\src\\\\data\\\\Reddit_MentalHealth_250.csv\")\n",
    "df.head()"
   ]
  },
  {
   "cell_type": "code",
   "execution_count": 3,
   "metadata": {},
   "outputs": [],
   "source": [
    "df = df[df['subreddit'] != 'selfimprovement'].reset_index(drop=True)"
   ]
  },
  {
   "cell_type": "code",
   "execution_count": 4,
   "metadata": {},
   "outputs": [
    {
     "data": {
      "text/plain": [
       "array(['Anxiety', 'AnxietyDepression', 'depression', 'depression_help',\n",
       "       'mentalhealth', 'MentalHealthSupport', 'mentalillness', 'ptsd',\n",
       "       'selfhelp', 'socialanxiety'], dtype=object)"
      ]
     },
     "execution_count": 4,
     "metadata": {},
     "output_type": "execute_result"
    }
   ],
   "source": [
    "df.subreddit.unique()"
   ]
  },
  {
   "cell_type": "code",
   "execution_count": 5,
   "metadata": {},
   "outputs": [
    {
     "data": {
      "text/html": [
       "<div>\n",
       "<style scoped>\n",
       "    .dataframe tbody tr th:only-of-type {\n",
       "        vertical-align: middle;\n",
       "    }\n",
       "\n",
       "    .dataframe tbody tr th {\n",
       "        vertical-align: top;\n",
       "    }\n",
       "\n",
       "    .dataframe thead th {\n",
       "        text-align: right;\n",
       "    }\n",
       "</style>\n",
       "<table border=\"1\" class=\"dataframe\">\n",
       "  <thead>\n",
       "    <tr style=\"text-align: right;\">\n",
       "      <th></th>\n",
       "      <th>subreddit</th>\n",
       "      <th>subreddit_subs</th>\n",
       "    </tr>\n",
       "  </thead>\n",
       "  <tbody>\n",
       "    <tr>\n",
       "      <th>999</th>\n",
       "      <td>Anxiety</td>\n",
       "      <td>661109</td>\n",
       "    </tr>\n",
       "    <tr>\n",
       "      <th>1999</th>\n",
       "      <td>AnxietyDepression</td>\n",
       "      <td>55678</td>\n",
       "    </tr>\n",
       "    <tr>\n",
       "      <th>2999</th>\n",
       "      <td>depression</td>\n",
       "      <td>1007636</td>\n",
       "    </tr>\n",
       "    <tr>\n",
       "      <th>3999</th>\n",
       "      <td>depression_help</td>\n",
       "      <td>93515</td>\n",
       "    </tr>\n",
       "    <tr>\n",
       "      <th>4999</th>\n",
       "      <td>mentalhealth</td>\n",
       "      <td>443558</td>\n",
       "    </tr>\n",
       "    <tr>\n",
       "      <th>5999</th>\n",
       "      <td>MentalHealthSupport</td>\n",
       "      <td>41518</td>\n",
       "    </tr>\n",
       "    <tr>\n",
       "      <th>6999</th>\n",
       "      <td>mentalillness</td>\n",
       "      <td>149332</td>\n",
       "    </tr>\n",
       "    <tr>\n",
       "      <th>7999</th>\n",
       "      <td>ptsd</td>\n",
       "      <td>100210</td>\n",
       "    </tr>\n",
       "    <tr>\n",
       "      <th>8999</th>\n",
       "      <td>selfhelp</td>\n",
       "      <td>172414</td>\n",
       "    </tr>\n",
       "    <tr>\n",
       "      <th>9999</th>\n",
       "      <td>socialanxiety</td>\n",
       "      <td>401691</td>\n",
       "    </tr>\n",
       "  </tbody>\n",
       "</table>\n",
       "</div>"
      ],
      "text/plain": [
       "                subreddit  subreddit_subs\n",
       "999               Anxiety          661109\n",
       "1999    AnxietyDepression           55678\n",
       "2999           depression         1007636\n",
       "3999      depression_help           93515\n",
       "4999         mentalhealth          443558\n",
       "5999  MentalHealthSupport           41518\n",
       "6999        mentalillness          149332\n",
       "7999                 ptsd          100210\n",
       "8999             selfhelp          172414\n",
       "9999        socialanxiety          401691"
      ]
     },
     "execution_count": 5,
     "metadata": {},
     "output_type": "execute_result"
    }
   ],
   "source": [
    "i = 999\n",
    "df[['subreddit', 'subreddit_subs']].iloc[[i, i + 1000, i + 1000*2, i + 1000*3, \n",
    "                                          i + 1000*4, i + 1000*5, i + 1000*6, \n",
    "                                          i + 1000*7, i + 1000*8, i + 1000*9]]"
   ]
  },
  {
   "cell_type": "markdown",
   "metadata": {},
   "source": [
    "### Time analysis"
   ]
  },
  {
   "cell_type": "code",
   "execution_count": 7,
   "metadata": {},
   "outputs": [
    {
     "data": {
      "text/html": [
       "<div>\n",
       "<style scoped>\n",
       "    .dataframe tbody tr th:only-of-type {\n",
       "        vertical-align: middle;\n",
       "    }\n",
       "\n",
       "    .dataframe tbody tr th {\n",
       "        vertical-align: top;\n",
       "    }\n",
       "\n",
       "    .dataframe thead th {\n",
       "        text-align: right;\n",
       "    }\n",
       "</style>\n",
       "<table border=\"1\" class=\"dataframe\">\n",
       "  <thead>\n",
       "    <tr style=\"text-align: right;\">\n",
       "      <th></th>\n",
       "      <th>id</th>\n",
       "      <th>title</th>\n",
       "      <th>author</th>\n",
       "      <th>author_id</th>\n",
       "      <th>author_karma</th>\n",
       "      <th>author_flair</th>\n",
       "      <th>upvotes</th>\n",
       "      <th>score</th>\n",
       "      <th>upvote_ratio</th>\n",
       "      <th>post_ts</th>\n",
       "      <th>...</th>\n",
       "      <th>comments</th>\n",
       "      <th>nsfw</th>\n",
       "      <th>self_text</th>\n",
       "      <th>spoiler</th>\n",
       "      <th>stickied</th>\n",
       "      <th>subreddit</th>\n",
       "      <th>subreddit_id</th>\n",
       "      <th>subreddit_subs</th>\n",
       "      <th>url</th>\n",
       "      <th>category</th>\n",
       "    </tr>\n",
       "  </thead>\n",
       "  <tbody>\n",
       "    <tr>\n",
       "      <th>0</th>\n",
       "      <td>18qa8qj</td>\n",
       "      <td>I’m depressed and anxious this Christmas</td>\n",
       "      <td>mrsunsfan</td>\n",
       "      <td>8kdawssf</td>\n",
       "      <td>320425.0</td>\n",
       "      <td>NaN</td>\n",
       "      <td>0</td>\n",
       "      <td>0</td>\n",
       "      <td>0.49</td>\n",
       "      <td>2023-12-25 03:17:52</td>\n",
       "      <td>...</td>\n",
       "      <td>29</td>\n",
       "      <td>False</td>\n",
       "      <td>I’ve been struggling since my ex broke up with...</td>\n",
       "      <td>False</td>\n",
       "      <td>False</td>\n",
       "      <td>Anxiety</td>\n",
       "      <td>2qmij</td>\n",
       "      <td>661128</td>\n",
       "      <td>https://www.reddit.com/r/Anxiety/comments/18qa...</td>\n",
       "      <td>Controversial</td>\n",
       "    </tr>\n",
       "    <tr>\n",
       "      <th>1</th>\n",
       "      <td>120xdga</td>\n",
       "      <td>Today i was at a neurologist and i told him th...</td>\n",
       "      <td>useralreadyused</td>\n",
       "      <td>g3wz23b7</td>\n",
       "      <td>144.0</td>\n",
       "      <td>NaN</td>\n",
       "      <td>0</td>\n",
       "      <td>0</td>\n",
       "      <td>0.49</td>\n",
       "      <td>2023-03-24 20:28:54</td>\n",
       "      <td>...</td>\n",
       "      <td>85</td>\n",
       "      <td>False</td>\n",
       "      <td>NaN</td>\n",
       "      <td>False</td>\n",
       "      <td>False</td>\n",
       "      <td>Anxiety</td>\n",
       "      <td>2qmij</td>\n",
       "      <td>661128</td>\n",
       "      <td>https://www.reddit.com/r/Anxiety/comments/120x...</td>\n",
       "      <td>Controversial</td>\n",
       "    </tr>\n",
       "    <tr>\n",
       "      <th>2</th>\n",
       "      <td>1902yq0</td>\n",
       "      <td>Do you watch porn?</td>\n",
       "      <td>Admirable_Strike4114</td>\n",
       "      <td>cpd2lm0x</td>\n",
       "      <td>1836.0</td>\n",
       "      <td>NaN</td>\n",
       "      <td>3</td>\n",
       "      <td>3</td>\n",
       "      <td>0.54</td>\n",
       "      <td>2024-01-06 15:56:43</td>\n",
       "      <td>...</td>\n",
       "      <td>22</td>\n",
       "      <td>False</td>\n",
       "      <td>Pornography is the worst factor that aggravate...</td>\n",
       "      <td>False</td>\n",
       "      <td>False</td>\n",
       "      <td>Anxiety</td>\n",
       "      <td>2qmij</td>\n",
       "      <td>661128</td>\n",
       "      <td>https://www.reddit.com/r/Anxiety/comments/1902...</td>\n",
       "      <td>Controversial</td>\n",
       "    </tr>\n",
       "    <tr>\n",
       "      <th>3</th>\n",
       "      <td>roksot</td>\n",
       "      <td>Welp guess I’ll die a virgin</td>\n",
       "      <td>ThrowawayT0</td>\n",
       "      <td>NaN</td>\n",
       "      <td>-inf</td>\n",
       "      <td>NaN</td>\n",
       "      <td>1</td>\n",
       "      <td>1</td>\n",
       "      <td>0.52</td>\n",
       "      <td>2021-12-26 00:11:57</td>\n",
       "      <td>...</td>\n",
       "      <td>52</td>\n",
       "      <td>False</td>\n",
       "      <td>\\nLady who I thought was flirting well... she ...</td>\n",
       "      <td>False</td>\n",
       "      <td>False</td>\n",
       "      <td>Anxiety</td>\n",
       "      <td>2qmij</td>\n",
       "      <td>661128</td>\n",
       "      <td>https://www.reddit.com/r/Anxiety/comments/roks...</td>\n",
       "      <td>Controversial</td>\n",
       "    </tr>\n",
       "    <tr>\n",
       "      <th>4</th>\n",
       "      <td>2kvv6z</td>\n",
       "      <td>[Rant] So today I saw a guy in town dressed a ...</td>\n",
       "      <td>tumblingturtle</td>\n",
       "      <td>in9cu</td>\n",
       "      <td>15.0</td>\n",
       "      <td>NaN</td>\n",
       "      <td>2</td>\n",
       "      <td>2</td>\n",
       "      <td>0.52</td>\n",
       "      <td>2014-10-31 14:04:24</td>\n",
       "      <td>...</td>\n",
       "      <td>17</td>\n",
       "      <td>False</td>\n",
       "      <td>So there I was walking through town, noticed s...</td>\n",
       "      <td>False</td>\n",
       "      <td>False</td>\n",
       "      <td>Anxiety</td>\n",
       "      <td>2qmij</td>\n",
       "      <td>661128</td>\n",
       "      <td>https://www.reddit.com/r/Anxiety/comments/2kvv...</td>\n",
       "      <td>Controversial</td>\n",
       "    </tr>\n",
       "  </tbody>\n",
       "</table>\n",
       "<p>5 rows × 26 columns</p>\n",
       "</div>"
      ],
      "text/plain": [
       "        id                                              title  \\\n",
       "0  18qa8qj           I’m depressed and anxious this Christmas   \n",
       "1  120xdga  Today i was at a neurologist and i told him th...   \n",
       "2  1902yq0                                 Do you watch porn?   \n",
       "3   roksot                       Welp guess I’ll die a virgin   \n",
       "4   2kvv6z  [Rant] So today I saw a guy in town dressed a ...   \n",
       "\n",
       "                 author author_id  author_karma author_flair  upvotes  score  \\\n",
       "0             mrsunsfan  8kdawssf      320425.0          NaN        0      0   \n",
       "1       useralreadyused  g3wz23b7         144.0          NaN        0      0   \n",
       "2  Admirable_Strike4114  cpd2lm0x        1836.0          NaN        3      3   \n",
       "3           ThrowawayT0       NaN          -inf          NaN        1      1   \n",
       "4        tumblingturtle     in9cu          15.0          NaN        2      2   \n",
       "\n",
       "   upvote_ratio             post_ts  ... comments   nsfw  \\\n",
       "0          0.49 2023-12-25 03:17:52  ...       29  False   \n",
       "1          0.49 2023-03-24 20:28:54  ...       85  False   \n",
       "2          0.54 2024-01-06 15:56:43  ...       22  False   \n",
       "3          0.52 2021-12-26 00:11:57  ...       52  False   \n",
       "4          0.52 2014-10-31 14:04:24  ...       17  False   \n",
       "\n",
       "                                           self_text  spoiler  stickied  \\\n",
       "0  I’ve been struggling since my ex broke up with...    False     False   \n",
       "1                                                NaN    False     False   \n",
       "2  Pornography is the worst factor that aggravate...    False     False   \n",
       "3  \\nLady who I thought was flirting well... she ...    False     False   \n",
       "4  So there I was walking through town, noticed s...    False     False   \n",
       "\n",
       "  subreddit  subreddit_id  subreddit_subs  \\\n",
       "0   Anxiety         2qmij          661128   \n",
       "1   Anxiety         2qmij          661128   \n",
       "2   Anxiety         2qmij          661128   \n",
       "3   Anxiety         2qmij          661128   \n",
       "4   Anxiety         2qmij          661128   \n",
       "\n",
       "                                                 url       category  \n",
       "0  https://www.reddit.com/r/Anxiety/comments/18qa...  Controversial  \n",
       "1  https://www.reddit.com/r/Anxiety/comments/120x...  Controversial  \n",
       "2  https://www.reddit.com/r/Anxiety/comments/1902...  Controversial  \n",
       "3  https://www.reddit.com/r/Anxiety/comments/roks...  Controversial  \n",
       "4  https://www.reddit.com/r/Anxiety/comments/2kvv...  Controversial  \n",
       "\n",
       "[5 rows x 26 columns]"
      ]
     },
     "execution_count": 7,
     "metadata": {},
     "output_type": "execute_result"
    }
   ],
   "source": [
    "df['post_ts'] = pd.to_datetime(df['post_ts'], unit = 's')\n",
    "df.head()"
   ]
  },
  {
   "cell_type": "code",
   "execution_count": 8,
   "metadata": {},
   "outputs": [
    {
     "data": {
      "text/plain": [
       "Timestamp('2009-01-16 23:57:26')"
      ]
     },
     "execution_count": 8,
     "metadata": {},
     "output_type": "execute_result"
    }
   ],
   "source": [
    "min(df['post_ts'])"
   ]
  },
  {
   "cell_type": "code",
   "execution_count": 9,
   "metadata": {},
   "outputs": [
    {
     "data": {
      "text/plain": [
       "Timestamp('2024-02-16 20:00:49')"
      ]
     },
     "execution_count": 9,
     "metadata": {},
     "output_type": "execute_result"
    }
   ],
   "source": [
    "max(df['post_ts'])"
   ]
  },
  {
   "cell_type": "markdown",
   "metadata": {},
   "source": [
    "### Karma span"
   ]
  },
  {
   "cell_type": "code",
   "execution_count": 10,
   "metadata": {},
   "outputs": [
    {
     "data": {
      "text/plain": [
       "-inf"
      ]
     },
     "execution_count": 10,
     "metadata": {},
     "output_type": "execute_result"
    }
   ],
   "source": [
    "min(df['author_karma'])"
   ]
  },
  {
   "cell_type": "code",
   "execution_count": 11,
   "metadata": {},
   "outputs": [
    {
     "data": {
      "text/plain": [
       "769451.0"
      ]
     },
     "execution_count": 11,
     "metadata": {},
     "output_type": "execute_result"
    }
   ],
   "source": [
    "max(df['author_karma'])"
   ]
  },
  {
   "cell_type": "markdown",
   "metadata": {},
   "source": [
    "### Upvotes/Score span"
   ]
  },
  {
   "cell_type": "code",
   "execution_count": 12,
   "metadata": {},
   "outputs": [
    {
     "data": {
      "text/plain": [
       "True    10000\n",
       "dtype: int64"
      ]
     },
     "execution_count": 12,
     "metadata": {},
     "output_type": "execute_result"
    }
   ],
   "source": [
    "(df['upvotes'] == df['score']).value_counts()"
   ]
  },
  {
   "cell_type": "code",
   "execution_count": 13,
   "metadata": {},
   "outputs": [
    {
     "data": {
      "text/plain": [
       "0"
      ]
     },
     "execution_count": 13,
     "metadata": {},
     "output_type": "execute_result"
    }
   ],
   "source": [
    "min(df['upvotes'])"
   ]
  },
  {
   "cell_type": "code",
   "execution_count": 14,
   "metadata": {},
   "outputs": [
    {
     "data": {
      "text/plain": [
       "27939"
      ]
     },
     "execution_count": 14,
     "metadata": {},
     "output_type": "execute_result"
    }
   ],
   "source": [
    "max(df['upvotes'])"
   ]
  },
  {
   "cell_type": "markdown",
   "metadata": {},
   "source": [
    "### Upvotes ratio"
   ]
  },
  {
   "cell_type": "code",
   "execution_count": 15,
   "metadata": {},
   "outputs": [
    {
     "data": {
      "text/plain": [
       "0.13"
      ]
     },
     "execution_count": 15,
     "metadata": {},
     "output_type": "execute_result"
    }
   ],
   "source": [
    "min(df['upvote_ratio'])"
   ]
  },
  {
   "cell_type": "code",
   "execution_count": 16,
   "metadata": {},
   "outputs": [
    {
     "data": {
      "text/plain": [
       "1.0"
      ]
     },
     "execution_count": 16,
     "metadata": {},
     "output_type": "execute_result"
    }
   ],
   "source": [
    "max(df['upvote_ratio'])"
   ]
  },
  {
   "cell_type": "markdown",
   "metadata": {},
   "source": [
    "### Comments span"
   ]
  },
  {
   "cell_type": "code",
   "execution_count": 17,
   "metadata": {},
   "outputs": [
    {
     "data": {
      "text/plain": [
       "0"
      ]
     },
     "execution_count": 17,
     "metadata": {},
     "output_type": "execute_result"
    }
   ],
   "source": [
    "min(df['comments'])"
   ]
  },
  {
   "cell_type": "code",
   "execution_count": 18,
   "metadata": {},
   "outputs": [
    {
     "data": {
      "text/plain": [
       "18657"
      ]
     },
     "execution_count": 18,
     "metadata": {},
     "output_type": "execute_result"
    }
   ],
   "source": [
    "max(df['comments'])"
   ]
  },
  {
   "cell_type": "markdown",
   "metadata": {},
   "source": [
    "### Count per column"
   ]
  },
  {
   "cell_type": "code",
   "execution_count": 19,
   "metadata": {},
   "outputs": [
    {
     "data": {
      "text/plain": [
       "subreddit\n",
       "Anxiety                1000\n",
       "AnxietyDepression      1000\n",
       "MentalHealthSupport    1000\n",
       "depression             1000\n",
       "depression_help        1000\n",
       "mentalhealth           1000\n",
       "mentalillness          1000\n",
       "ptsd                   1000\n",
       "selfhelp               1000\n",
       "socialanxiety          1000\n",
       "dtype: int64"
      ]
     },
     "execution_count": 19,
     "metadata": {},
     "output_type": "execute_result"
    }
   ],
   "source": [
    "df[['subreddit']].groupby(by = ['subreddit']).value_counts()"
   ]
  },
  {
   "cell_type": "code",
   "execution_count": 20,
   "metadata": {},
   "outputs": [
    {
     "data": {
      "text/plain": [
       "nsfw\n",
       "False    9637\n",
       "True      363\n",
       "dtype: int64"
      ]
     },
     "execution_count": 20,
     "metadata": {},
     "output_type": "execute_result"
    }
   ],
   "source": [
    "df[['nsfw']].groupby(by = ['nsfw']).value_counts()"
   ]
  },
  {
   "cell_type": "code",
   "execution_count": 21,
   "metadata": {},
   "outputs": [
    {
     "data": {
      "text/plain": [
       "nsfw   subreddit          \n",
       "False  selfhelp               987\n",
       "       socialanxiety          986\n",
       "       AnxietyDepression      979\n",
       "       Anxiety                977\n",
       "       depression             966\n",
       "       MentalHealthSupport    962\n",
       "       depression_help        960\n",
       "       mentalhealth           954\n",
       "       mentalillness          952\n",
       "       ptsd                   914\n",
       "True   ptsd                    86\n",
       "       mentalillness           48\n",
       "       mentalhealth            46\n",
       "       depression_help         40\n",
       "       MentalHealthSupport     38\n",
       "       depression              34\n",
       "       Anxiety                 23\n",
       "       AnxietyDepression       21\n",
       "       socialanxiety           14\n",
       "       selfhelp                13\n",
       "dtype: int64"
      ]
     },
     "execution_count": 21,
     "metadata": {},
     "output_type": "execute_result"
    }
   ],
   "source": [
    "df[['subreddit', 'nsfw']].groupby(by = ['nsfw']).value_counts()"
   ]
  },
  {
   "cell_type": "code",
   "execution_count": 22,
   "metadata": {},
   "outputs": [
    {
     "data": {
      "text/plain": [
       "spoiler\n",
       "False    9949\n",
       "True       51\n",
       "dtype: int64"
      ]
     },
     "execution_count": 22,
     "metadata": {},
     "output_type": "execute_result"
    }
   ],
   "source": [
    "df[['spoiler']].groupby(by = ['spoiler']).value_counts()"
   ]
  },
  {
   "cell_type": "code",
   "execution_count": 23,
   "metadata": {},
   "outputs": [
    {
     "data": {
      "text/plain": [
       "spoiler  subreddit          \n",
       "False    depression             1000\n",
       "         mentalhealth           1000\n",
       "         selfhelp               1000\n",
       "         socialanxiety          1000\n",
       "         Anxiety                 997\n",
       "         AnxietyDepression       995\n",
       "         depression_help         994\n",
       "         ptsd                    991\n",
       "         MentalHealthSupport     990\n",
       "         mentalillness           982\n",
       "True     mentalillness            18\n",
       "         MentalHealthSupport      10\n",
       "         ptsd                      9\n",
       "         depression_help           6\n",
       "         AnxietyDepression         5\n",
       "         Anxiety                   3\n",
       "dtype: int64"
      ]
     },
     "execution_count": 23,
     "metadata": {},
     "output_type": "execute_result"
    }
   ],
   "source": [
    "df[['subreddit', 'spoiler']].groupby(by = ['spoiler']).value_counts()"
   ]
  },
  {
   "cell_type": "code",
   "execution_count": 24,
   "metadata": {},
   "outputs": [
    {
     "data": {
      "text/plain": [
       "stickied\n",
       "False    9986\n",
       "True       14\n",
       "dtype: int64"
      ]
     },
     "execution_count": 24,
     "metadata": {},
     "output_type": "execute_result"
    }
   ],
   "source": [
    "df[['stickied']].groupby(by = ['stickied']).value_counts()"
   ]
  },
  {
   "cell_type": "code",
   "execution_count": 25,
   "metadata": {},
   "outputs": [
    {
     "data": {
      "text/plain": [
       "stickied  subreddit          \n",
       "False     selfhelp               1000\n",
       "          mentalillness          1000\n",
       "          MentalHealthSupport    1000\n",
       "          socialanxiety           999\n",
       "          AnxietyDepression       999\n",
       "          ptsd                    998\n",
       "          Anxiety                 998\n",
       "          mentalhealth            998\n",
       "          depression_help         997\n",
       "          depression              997\n",
       "True      depression                3\n",
       "          depression_help           3\n",
       "          Anxiety                   2\n",
       "          mentalhealth              2\n",
       "          ptsd                      2\n",
       "          AnxietyDepression         1\n",
       "          socialanxiety             1\n",
       "dtype: int64"
      ]
     },
     "execution_count": 25,
     "metadata": {},
     "output_type": "execute_result"
    }
   ],
   "source": [
    "df[['subreddit', 'stickied']].groupby(by = ['stickied']).value_counts()"
   ]
  },
  {
   "cell_type": "code",
   "execution_count": 26,
   "metadata": {},
   "outputs": [
    {
     "data": {
      "text/plain": [
       "locked\n",
       "False    9970\n",
       "True       30\n",
       "dtype: int64"
      ]
     },
     "execution_count": 26,
     "metadata": {},
     "output_type": "execute_result"
    }
   ],
   "source": [
    "df[['locked']].groupby(by = ['locked']).value_counts()"
   ]
  },
  {
   "cell_type": "code",
   "execution_count": 29,
   "metadata": {},
   "outputs": [
    {
     "data": {
      "text/plain": [
       "id                 object\n",
       "title              object\n",
       "author             object\n",
       "author_id          object\n",
       "author_karma      float64\n",
       "author_flair       object\n",
       "upvotes             int64\n",
       "score               int64\n",
       "upvote_ratio      float64\n",
       "post_ts           float64\n",
       "distinguished      object\n",
       "edited             object\n",
       "original             bool\n",
       "self                 bool\n",
       "locked               bool\n",
       "name               object\n",
       "comments            int64\n",
       "nsfw                 bool\n",
       "self_text          object\n",
       "spoiler              bool\n",
       "stickied             bool\n",
       "subreddit          object\n",
       "subreddit_id       object\n",
       "subreddit_subs      int64\n",
       "url                object\n",
       "category           object\n",
       "dtype: object"
      ]
     },
     "execution_count": 29,
     "metadata": {},
     "output_type": "execute_result"
    }
   ],
   "source": [
    "df.dtypes"
   ]
  },
  {
   "cell_type": "code",
   "execution_count": 36,
   "metadata": {},
   "outputs": [
    {
     "data": {
      "text/plain": [
       "edited\n",
       "1307972177.0       1\n",
       "1327417235.0       1\n",
       "1327475624.0       1\n",
       "1336368037.0       1\n",
       "1345001519.0       1\n",
       "                ... \n",
       "1708097643.0       2\n",
       "1708097977.0       2\n",
       "1708098705.0       2\n",
       "1708099048.0       2\n",
       "False           9934\n",
       "Length: 905, dtype: int64"
      ]
     },
     "execution_count": 36,
     "metadata": {},
     "output_type": "execute_result"
    }
   ],
   "source": [
    "df[['edited']].groupby(by = ['edited']).value_counts()"
   ]
  },
  {
   "cell_type": "code",
   "execution_count": 27,
   "metadata": {},
   "outputs": [
    {
     "data": {
      "text/plain": [
       "locked  subreddit          \n",
       "False   AnxietyDepression      1000\n",
       "        MentalHealthSupport    1000\n",
       "        depression             1000\n",
       "        mentalillness          1000\n",
       "        selfhelp               1000\n",
       "        socialanxiety           998\n",
       "        depression_help         996\n",
       "        ptsd                    995\n",
       "        Anxiety                 994\n",
       "        mentalhealth            987\n",
       "True    mentalhealth             13\n",
       "        Anxiety                   6\n",
       "        ptsd                      5\n",
       "        depression_help           4\n",
       "        socialanxiety             2\n",
       "dtype: int64"
      ]
     },
     "execution_count": 27,
     "metadata": {},
     "output_type": "execute_result"
    }
   ],
   "source": [
    "df[['subreddit', 'locked']].groupby(by = ['locked']).value_counts()"
   ]
  },
  {
   "cell_type": "code",
   "execution_count": 20,
   "metadata": {},
   "outputs": [
    {
     "data": {
      "text/plain": [
       "self\n",
       "False    1011\n",
       "True     9989\n",
       "dtype: int64"
      ]
     },
     "execution_count": 20,
     "metadata": {},
     "output_type": "execute_result"
    }
   ],
   "source": [
    "df[['self']].groupby(by = ['self']).value_counts()"
   ]
  },
  {
   "cell_type": "code",
   "execution_count": 29,
   "metadata": {},
   "outputs": [
    {
     "data": {
      "text/plain": [
       "self   subreddit          \n",
       "False  socialanxiety           296\n",
       "       depression_help         285\n",
       "       mentalillness           146\n",
       "       mentalhealth             82\n",
       "       Anxiety                  73\n",
       "       selfhelp                 62\n",
       "       AnxietyDepression        27\n",
       "       depression               24\n",
       "       ptsd                      7\n",
       "True   MentalHealthSupport    1000\n",
       "       ptsd                    993\n",
       "       depression              976\n",
       "       AnxietyDepression       973\n",
       "       selfhelp                938\n",
       "       Anxiety                 927\n",
       "       mentalhealth            918\n",
       "       mentalillness           854\n",
       "       depression_help         715\n",
       "       socialanxiety           704\n",
       "dtype: int64"
      ]
     },
     "execution_count": 29,
     "metadata": {},
     "output_type": "execute_result"
    }
   ],
   "source": [
    "df[['subreddit', 'self']].groupby(by = ['self']).value_counts()"
   ]
  },
  {
   "cell_type": "code",
   "execution_count": 30,
   "metadata": {},
   "outputs": [
    {
     "data": {
      "text/plain": [
       "original\n",
       "False    10000\n",
       "dtype: int64"
      ]
     },
     "execution_count": 30,
     "metadata": {},
     "output_type": "execute_result"
    }
   ],
   "source": [
    "df[['original']].groupby(by = ['original']).value_counts()"
   ]
  },
  {
   "cell_type": "code",
   "execution_count": 31,
   "metadata": {},
   "outputs": [
    {
     "data": {
      "text/plain": [
       "distinguished\n",
       "moderator    11\n",
       "dtype: int64"
      ]
     },
     "execution_count": 31,
     "metadata": {},
     "output_type": "execute_result"
    }
   ],
   "source": [
    "df[['distinguished']].groupby(by = ['distinguished']).value_counts()"
   ]
  },
  {
   "cell_type": "code",
   "execution_count": 32,
   "metadata": {},
   "outputs": [
    {
     "data": {
      "text/plain": [
       "distinguished  subreddit          \n",
       "moderator      depression             4\n",
       "               ptsd                   3\n",
       "               AnxietyDepression      1\n",
       "               MentalHealthSupport    1\n",
       "               depression_help        1\n",
       "               mentalhealth           1\n",
       "dtype: int64"
      ]
     },
     "execution_count": 32,
     "metadata": {},
     "output_type": "execute_result"
    }
   ],
   "source": [
    "df[['subreddit', 'distinguished']].groupby(by = ['distinguished']).value_counts()"
   ]
  },
  {
   "cell_type": "markdown",
   "metadata": {},
   "source": [
    "### NA count"
   ]
  },
  {
   "cell_type": "code",
   "execution_count": 33,
   "metadata": {},
   "outputs": [
    {
     "data": {
      "text/plain": [
       "id                   0\n",
       "title                0\n",
       "author             784\n",
       "author_id         1134\n",
       "author_karma         0\n",
       "author_flair      9958\n",
       "upvotes              0\n",
       "score                0\n",
       "upvote_ratio         0\n",
       "post_ts              0\n",
       "distinguished     9989\n",
       "edited               0\n",
       "original             0\n",
       "self                 0\n",
       "locked               0\n",
       "name                 0\n",
       "comments             0\n",
       "nsfw                 0\n",
       "self_text         1352\n",
       "spoiler              0\n",
       "stickied             0\n",
       "subreddit            0\n",
       "subreddit_id         0\n",
       "subreddit_subs       0\n",
       "url                  0\n",
       "category             0\n",
       "dtype: int64"
      ]
     },
     "execution_count": 33,
     "metadata": {},
     "output_type": "execute_result"
    }
   ],
   "source": [
    "df.isna().sum()"
   ]
  },
  {
   "cell_type": "markdown",
   "metadata": {},
   "source": [
    "### No text body content"
   ]
  },
  {
   "cell_type": "code",
   "execution_count": 43,
   "metadata": {},
   "outputs": [
    {
     "data": {
      "text/html": [
       "<div>\n",
       "<style scoped>\n",
       "    .dataframe tbody tr th:only-of-type {\n",
       "        vertical-align: middle;\n",
       "    }\n",
       "\n",
       "    .dataframe tbody tr th {\n",
       "        vertical-align: top;\n",
       "    }\n",
       "\n",
       "    .dataframe thead th {\n",
       "        text-align: right;\n",
       "    }\n",
       "</style>\n",
       "<table border=\"1\" class=\"dataframe\">\n",
       "  <thead>\n",
       "    <tr style=\"text-align: right;\">\n",
       "      <th></th>\n",
       "      <th>title</th>\n",
       "      <th>url</th>\n",
       "      <th>self</th>\n",
       "      <th>self_text</th>\n",
       "    </tr>\n",
       "  </thead>\n",
       "  <tbody>\n",
       "    <tr>\n",
       "      <th>1</th>\n",
       "      <td>Today i was at a neurologist and i told him th...</td>\n",
       "      <td>https://www.reddit.com/r/Anxiety/comments/120x...</td>\n",
       "      <td>True</td>\n",
       "      <td>NaN</td>\n",
       "    </tr>\n",
       "    <tr>\n",
       "      <th>7</th>\n",
       "      <td>Blew my mind.</td>\n",
       "      <td>https://fbcdn-sphotos-b-a.akamaihd.net/hphotos...</td>\n",
       "      <td>False</td>\n",
       "      <td>NaN</td>\n",
       "    </tr>\n",
       "    <tr>\n",
       "      <th>22</th>\n",
       "      <td>F-E-A-R</td>\n",
       "      <td>http://i.imgur.com/MCmofQP.jpg</td>\n",
       "      <td>False</td>\n",
       "      <td>NaN</td>\n",
       "    </tr>\n",
       "    <tr>\n",
       "      <th>39</th>\n",
       "      <td>The Onion is here for you</td>\n",
       "      <td>http://www.theonion.com/articles/still-some-nu...</td>\n",
       "      <td>False</td>\n",
       "      <td>NaN</td>\n",
       "    </tr>\n",
       "    <tr>\n",
       "      <th>40</th>\n",
       "      <td>I’m prescribed .5mg of Xanax, as needed but no...</td>\n",
       "      <td>http://anxietyadventures.wordpress.com/2012/09...</td>\n",
       "      <td>False</td>\n",
       "      <td>NaN</td>\n",
       "    </tr>\n",
       "    <tr>\n",
       "      <th>...</th>\n",
       "      <td>...</td>\n",
       "      <td>...</td>\n",
       "      <td>...</td>\n",
       "      <td>...</td>\n",
       "    </tr>\n",
       "    <tr>\n",
       "      <th>9995</th>\n",
       "      <td>My social battery is zero before going out</td>\n",
       "      <td>https://i.redd.it/6940lvlpy7b51.png</td>\n",
       "      <td>False</td>\n",
       "      <td>NaN</td>\n",
       "    </tr>\n",
       "    <tr>\n",
       "      <th>9996</th>\n",
       "      <td>Everyday at college</td>\n",
       "      <td>https://i.redd.it/yx3cfdwwjni31.jpg</td>\n",
       "      <td>False</td>\n",
       "      <td>NaN</td>\n",
       "    </tr>\n",
       "    <tr>\n",
       "      <th>9997</th>\n",
       "      <td>I can’t even talk normally</td>\n",
       "      <td>https://i.redd.it/k2z8dgbx1yz51.jpg</td>\n",
       "      <td>False</td>\n",
       "      <td>NaN</td>\n",
       "    </tr>\n",
       "    <tr>\n",
       "      <th>9998</th>\n",
       "      <td>Everyday struggle 😔</td>\n",
       "      <td>https://i.redd.it/c5pcwl8lu3c61.jpg</td>\n",
       "      <td>False</td>\n",
       "      <td>NaN</td>\n",
       "    </tr>\n",
       "    <tr>\n",
       "      <th>9999</th>\n",
       "      <td>Relatable?</td>\n",
       "      <td>https://i.redd.it/qhsmhjtv68g51.jpg</td>\n",
       "      <td>False</td>\n",
       "      <td>NaN</td>\n",
       "    </tr>\n",
       "  </tbody>\n",
       "</table>\n",
       "<p>1352 rows × 4 columns</p>\n",
       "</div>"
      ],
      "text/plain": [
       "                                                  title  \\\n",
       "1     Today i was at a neurologist and i told him th...   \n",
       "7                                         Blew my mind.   \n",
       "22                                              F-E-A-R   \n",
       "39                            The Onion is here for you   \n",
       "40    I’m prescribed .5mg of Xanax, as needed but no...   \n",
       "...                                                 ...   \n",
       "9995         My social battery is zero before going out   \n",
       "9996                                Everyday at college   \n",
       "9997                         I can’t even talk normally   \n",
       "9998                                Everyday struggle 😔   \n",
       "9999                                         Relatable?   \n",
       "\n",
       "                                                    url   self self_text  \n",
       "1     https://www.reddit.com/r/Anxiety/comments/120x...   True       NaN  \n",
       "7     https://fbcdn-sphotos-b-a.akamaihd.net/hphotos...  False       NaN  \n",
       "22                       http://i.imgur.com/MCmofQP.jpg  False       NaN  \n",
       "39    http://www.theonion.com/articles/still-some-nu...  False       NaN  \n",
       "40    http://anxietyadventures.wordpress.com/2012/09...  False       NaN  \n",
       "...                                                 ...    ...       ...  \n",
       "9995                https://i.redd.it/6940lvlpy7b51.png  False       NaN  \n",
       "9996                https://i.redd.it/yx3cfdwwjni31.jpg  False       NaN  \n",
       "9997                https://i.redd.it/k2z8dgbx1yz51.jpg  False       NaN  \n",
       "9998                https://i.redd.it/c5pcwl8lu3c61.jpg  False       NaN  \n",
       "9999                https://i.redd.it/qhsmhjtv68g51.jpg  False       NaN  \n",
       "\n",
       "[1352 rows x 4 columns]"
      ]
     },
     "execution_count": 43,
     "metadata": {},
     "output_type": "execute_result"
    }
   ],
   "source": [
    "df[df['self_text'].isna()][['title', 'url', 'self', 'self_text']]"
   ]
  },
  {
   "cell_type": "code",
   "execution_count": 45,
   "metadata": {},
   "outputs": [
    {
     "data": {
      "text/plain": [
       "'https://www.reddit.com/r/Anxiety/comments/120xdga/today_i_was_at_a_neurologist_and_i_told_him_that/'"
      ]
     },
     "execution_count": 45,
     "metadata": {},
     "output_type": "execute_result"
    }
   ],
   "source": [
    "df[df['self_text'].isna()]['url'].iloc[0]"
   ]
  },
  {
   "cell_type": "code",
   "execution_count": 47,
   "metadata": {},
   "outputs": [
    {
     "data": {
      "text/plain": [
       "'http://i.imgur.com/MCmofQP.jpg'"
      ]
     },
     "execution_count": 47,
     "metadata": {},
     "output_type": "execute_result"
    }
   ],
   "source": [
    "df[df['self_text'].isna()]['url'].iloc[2]"
   ]
  },
  {
   "cell_type": "markdown",
   "metadata": {},
   "source": [
    "### NSFW analysis"
   ]
  },
  {
   "cell_type": "code",
   "execution_count": 13,
   "metadata": {},
   "outputs": [],
   "source": [
    "# Source https://gist.github.com/sebleier/554280?permalink_comment_id=3126707#gistcomment-3126707\n",
    "custom_stopwords = [\"0o\", \"0s\", \"3a\", \"3b\", \"3d\", \"6b\", \"6o\", \"a\", \"a1\", \"a2\", \"a3\", \"a4\", \"ab\", \"able\", \"about\", \"above\", \"abst\", \"ac\", \"accordance\", \"according\", \"accordingly\", \"across\", \"act\", \"actually\", \"ad\", \"added\", \"adj\", \"ae\", \"af\", \"affected\", \"affecting\", \"affects\", \"after\", \"afterwards\", \"ag\", \"again\", \"against\", \"ah\", \"ain\", \"ain't\", \"aj\", \"al\", \"all\", \"allow\", \"allows\", \"almost\", \"alone\", \"along\", \"already\", \"also\", \"although\", \"always\", \"am\", \"among\", \"amongst\", \"amoungst\", \"amount\", \"an\", \"and\", \"announce\", \"another\", \"any\", \"anybody\", \"anyhow\", \"anymore\", \"anyone\", \"anything\", \"anyway\", \"anyways\", \"anywhere\", \"ao\", \"ap\", \"apart\", \"apparently\", \"appear\", \"appreciate\", \"appropriate\", \"approximately\", \"ar\", \"are\", \"aren\", \"arent\", \"aren't\", \"arise\", \"around\", \"as\", \"a's\", \"aside\", \"ask\", \"asking\", \"associated\", \"at\", \"au\", \"auth\", \"av\", \"available\", \"aw\", \"away\", \"awfully\", \"ax\", \"ay\", \"az\", \"b\", \"b1\", \"b2\", \"b3\", \"ba\", \"back\", \"bc\", \"bd\", \"be\", \"became\", \"because\", \"become\", \"becomes\", \"becoming\", \"been\", \"before\", \"beforehand\", \"begin\", \"beginning\", \"beginnings\", \"begins\", \"behind\", \"being\", \"believe\", \"below\", \"beside\", \"besides\", \"best\", \"better\", \"between\", \"beyond\", \"bi\", \"bill\", \"biol\", \"bj\", \"bk\", \"bl\", \"bn\", \"both\", \"bottom\", \"bp\", \"br\", \"brief\", \"briefly\", \"bs\", \"bt\", \"bu\", \"but\", \"bx\", \"by\", \"c\", \"c1\", \"c2\", \"c3\", \"ca\", \"call\", \"came\", \"can\", \"cannot\", \"cant\", \"can't\", \"cause\", \"causes\", \"cc\", \"cd\", \"ce\", \"certain\", \"certainly\", \"cf\", \"cg\", \"ch\", \"changes\", \"ci\", \"cit\", \"cj\", \"cl\", \"clearly\", \"cm\", \"c'mon\", \"cn\", \"co\", \"com\", \"come\", \"comes\", \"con\", \"concerning\", \"consequently\", \"consider\", \"considering\", \"contain\", \"containing\", \"contains\", \"corresponding\", \"could\", \"couldn\", \"couldnt\", \"couldn't\", \"course\", \"cp\", \"cq\", \"cr\", \"cry\", \"cs\", \"c's\", \"ct\", \"cu\", \"currently\", \"cv\", \"cx\", \"cy\", \"cz\", \"d\", \"d2\", \"da\", \"date\", \"dc\", \"dd\", \"de\", \"definitely\", \"describe\", \"described\", \"despite\", \"detail\", \"df\", \"di\", \"did\", \"didn\", \"didn't\", \"different\", \"dj\", \"dk\", \"dl\", \"do\", \"does\", \"doesn\", \"doesn't\", \"doing\", \"don\", \"done\", \"don't\", \"down\", \"downwards\", \"dp\", \"dr\", \"ds\", \"dt\", \"du\", \"due\", \"during\", \"dx\", \"dy\", \"e\", \"e2\", \"e3\", \"ea\", \"each\", \"ec\", \"ed\", \"edu\", \"ee\", \"ef\", \"effect\", \"eg\", \"ei\", \"eight\", \"eighty\", \"either\", \"ej\", \"el\", \"eleven\", \"else\", \"elsewhere\", \"em\", \"empty\", \"en\", \"end\", \"ending\", \"enough\", \"entirely\", \"eo\", \"ep\", \"eq\", \"er\", \"es\", \"especially\", \"est\", \"et\", \"et-al\", \"etc\", \"eu\", \"ev\", \"even\", \"ever\", \"every\", \"everybody\", \"everyone\", \"everything\", \"everywhere\", \"ex\", \"exactly\", \"example\", \"except\", \"ey\", \"f\", \"f2\", \"fa\", \"far\", \"fc\", \"few\", \"ff\", \"fi\", \"fifteen\", \"fifth\", \"fify\", \"fill\", \"find\", \"fire\", \"first\", \"five\", \"fix\", \"fj\", \"fl\", \"fn\", \"fo\", \"followed\", \"following\", \"follows\", \"for\", \"former\", \"formerly\", \"forth\", \"forty\", \"found\", \"four\", \"fr\", \"from\", \"front\", \"fs\", \"ft\", \"fu\", \"full\", \"further\", \"furthermore\", \"fy\", \"g\", \"ga\", \"gave\", \"ge\", \"get\", \"gets\", \"getting\", \"gi\", \"give\", \"given\", \"gives\", \"giving\", \"gj\", \"gl\", \"go\", \"goes\", \"going\", \"gone\", \"got\", \"gotten\", \"gr\", \"greetings\", \"gs\", \"gy\", \"h\", \"h2\", \"h3\", \"had\", \"hadn\", \"hadn't\", \"happens\", \"hardly\", \"has\", \"hasn\", \"hasnt\", \"hasn't\", \"have\", \"haven\", \"haven't\", \"having\", \"he\", \"hed\", \"he'd\", \"he'll\", \"hello\", \"help\", \"hence\", \"her\", \"here\", \"hereafter\", \"hereby\", \"herein\", \"heres\", \"here's\", \"hereupon\", \"hers\", \"herself\", \"hes\", \"he's\", \"hh\", \"hi\", \"hid\", \"him\", \"himself\", \"his\", \"hither\", \"hj\", \"ho\", \"home\", \"hopefully\", \"how\", \"howbeit\", \"however\", \"how's\", \"hr\", \"hs\", \"http\", \"hu\", \"hundred\", \"hy\", \"i\", \"i2\", \"i3\", \"i4\", \"i6\", \"i7\", \"i8\", \"ia\", \"ib\", \"ibid\", \"ic\", \"id\", \"i'd\", \"ie\", \"if\", \"ig\", \"ignored\", \"ih\", \"ii\", \"ij\", \"il\", \"i'll\", \"im\", \"i'm\", \"immediate\", \"immediately\", \"importance\", \"important\", \"in\", \"inasmuch\", \"inc\", \"indeed\", \"index\", \"indicate\", \"indicated\", \"indicates\", \"information\", \"inner\", \"insofar\", \"instead\", \"interest\", \"into\", \"invention\", \"inward\", \"io\", \"ip\", \"iq\", \"ir\", \"is\", \"isn\", \"isn't\", \"it\", \"itd\", \"it'd\", \"it'll\", \"its\", \"it's\", \"itself\", \"iv\", \"i've\", \"ix\", \"iy\", \"iz\", \"j\", \"jj\", \"jr\", \"js\", \"jt\", \"ju\", \"just\", \"k\", \"ke\", \"keep\", \"keeps\", \"kept\", \"kg\", \"kj\", \"km\", \"know\", \"known\", \"knows\", \"ko\", \"l\", \"l2\", \"la\", \"largely\", \"last\", \"lately\", \"later\", \"latter\", \"latterly\", \"lb\", \"lc\", \"le\", \"least\", \"les\", \"less\", \"lest\", \"let\", \"lets\", \"let's\", \"lf\", \"like\", \"liked\", \"likely\", \"line\", \"little\", \"lj\", \"ll\", \"ll\", \"ln\", \"lo\", \"look\", \"looking\", \"looks\", \"los\", \"lr\", \"ls\", \"lt\", \"ltd\", \"m\", \"m2\", \"ma\", \"made\", \"mainly\", \"make\", \"makes\", \"many\", \"may\", \"maybe\", \"me\", \"mean\", \"means\", \"meantime\", \"meanwhile\", \"merely\", \"mg\", \"might\", \"mightn\", \"mightn't\", \"mill\", \"million\", \"mine\", \"miss\", \"ml\", \"mn\", \"mo\", \"more\", \"moreover\", \"most\", \"mostly\", \"move\", \"mr\", \"mrs\", \"ms\", \"mt\", \"mu\", \"much\", \"mug\", \"must\", \"mustn\", \"mustn't\", \"my\", \"myself\", \"n\", \"n2\", \"na\", \"name\", \"namely\", \"nay\", \"nc\", \"nd\", \"ne\", \"near\", \"nearly\", \"necessarily\", \"necessary\", \"need\", \"needn\", \"needn't\", \"needs\", \"neither\", \"never\", \"nevertheless\", \"new\", \"next\", \"ng\", \"ni\", \"nine\", \"ninety\", \"nj\", \"nl\", \"nn\", \"no\", \"nobody\", \"non\", \"none\", \"nonetheless\", \"noone\", \"nor\", \"normally\", \"nos\", \"not\", \"noted\", \"nothing\", \"novel\", \"now\", \"nowhere\", \"nr\", \"ns\", \"nt\", \"ny\", \"o\", \"oa\", \"ob\", \"obtain\", \"obtained\", \"obviously\", \"oc\", \"od\", \"of\", \"off\", \"often\", \"og\", \"oh\", \"oi\", \"oj\", \"ok\", \"okay\", \"ol\", \"old\", \"om\", \"omitted\", \"on\", \"once\", \"one\", \"ones\", \"only\", \"onto\", \"oo\", \"op\", \"oq\", \"or\", \"ord\", \"os\", \"ot\", \"other\", \"others\", \"otherwise\", \"ou\", \"ought\", \"our\", \"ours\", \"ourselves\", \"out\", \"outside\", \"over\", \"overall\", \"ow\", \"owing\", \"own\", \"ox\", \"oz\", \"p\", \"p1\", \"p2\", \"p3\", \"page\", \"pagecount\", \"pages\", \"par\", \"part\", \"particular\", \"particularly\", \"pas\", \"past\", \"pc\", \"pd\", \"pe\", \"per\", \"perhaps\", \"pf\", \"ph\", \"pi\", \"pj\", \"pk\", \"pl\", \"placed\", \"please\", \"plus\", \"pm\", \"pn\", \"po\", \"poorly\", \"possible\", \"possibly\", \"potentially\", \"pp\", \"pq\", \"pr\", \"predominantly\", \"present\", \"presumably\", \"previously\", \"primarily\", \"probably\", \"promptly\", \"proud\", \"provides\", \"ps\", \"pt\", \"pu\", \"put\", \"py\", \"q\", \"qj\", \"qu\", \"que\", \"quickly\", \"quite\", \"qv\", \"r\", \"r2\", \"ra\", \"ran\", \"rather\", \"rc\", \"rd\", \"re\", \"readily\", \"really\", \"reasonably\", \"recent\", \"recently\", \"ref\", \"refs\", \"regarding\", \"regardless\", \"regards\", \"related\", \"relatively\", \"research\", \"research-articl\", \"respectively\", \"resulted\", \"resulting\", \"results\", \"rf\", \"rh\", \"ri\", \"right\", \"rj\", \"rl\", \"rm\", \"rn\", \"ro\", \"rq\", \"rr\", \"rs\", \"rt\", \"ru\", \"run\", \"rv\", \"ry\", \"s\", \"s2\", \"sa\", \"said\", \"same\", \"saw\", \"say\", \"saying\", \"says\", \"sc\", \"sd\", \"se\", \"sec\", \"second\", \"secondly\", \"section\", \"see\", \"seeing\", \"seem\", \"seemed\", \"seeming\", \"seems\", \"seen\", \"self\", \"selves\", \"sensible\", \"sent\", \"serious\", \"seriously\", \"seven\", \"several\", \"sf\", \"shall\", \"shan\", \"shan't\", \"she\", \"shed\", \"she'd\", \"she'll\", \"shes\", \"she's\", \"should\", \"shouldn\", \"shouldn't\", \"should've\", \"show\", \"showed\", \"shown\", \"showns\", \"shows\", \"si\", \"side\", \"significant\", \"significantly\", \"similar\", \"similarly\", \"since\", \"sincere\", \"six\", \"sixty\", \"sj\", \"sl\", \"slightly\", \"sm\", \"sn\", \"so\", \"some\", \"somebody\", \"somehow\", \"someone\", \"somethan\", \"something\", \"sometime\", \"sometimes\", \"somewhat\", \"somewhere\", \"soon\", \"sorry\", \"sp\", \"specifically\", \"specified\", \"specify\", \"specifying\", \"sq\", \"sr\", \"ss\", \"st\", \"still\", \"stop\", \"strongly\", \"sub\", \"substantially\", \"successfully\", \"such\", \"sufficiently\", \"suggest\", \"sup\", \"sure\", \"sy\", \"system\", \"sz\", \"t\", \"t1\", \"t2\", \"t3\", \"take\", \"taken\", \"taking\", \"tb\", \"tc\", \"td\", \"te\", \"tell\", \"ten\", \"tends\", \"tf\", \"th\", \"than\", \"thank\", \"thanks\", \"thanx\", \"that\", \"that'll\", \"thats\", \"that's\", \"that've\", \"the\", \"their\", \"theirs\", \"them\", \"themselves\", \"then\", \"thence\", \"there\", \"thereafter\", \"thereby\", \"thered\", \"therefore\", \"therein\", \"there'll\", \"thereof\", \"therere\", \"theres\", \"there's\", \"thereto\", \"thereupon\", \"there've\", \"these\", \"they\", \"theyd\", \"they'd\", \"they'll\", \"theyre\", \"they're\", \"they've\", \"thickv\", \"thin\", \"think\", \"third\", \"this\", \"thorough\", \"thoroughly\", \"those\", \"thou\", \"though\", \"thoughh\", \"thousand\", \"three\", \"throug\", \"through\", \"throughout\", \"thru\", \"thus\", \"ti\", \"til\", \"tip\", \"tj\", \"tl\", \"tm\", \"tn\", \"to\", \"together\", \"too\", \"took\", \"top\", \"toward\", \"towards\", \"tp\", \"tq\", \"tr\", \"tried\", \"tries\", \"truly\", \"try\", \"trying\", \"ts\", \"t's\", \"tt\", \"tv\", \"twelve\", \"twenty\", \"twice\", \"two\", \"tx\", \"u\", \"u201d\", \"ue\", \"ui\", \"uj\", \"uk\", \"um\", \"un\", \"under\", \"unfortunately\", \"unless\", \"unlike\", \"unlikely\", \"until\", \"unto\", \"uo\", \"up\", \"upon\", \"ups\", \"ur\", \"us\", \"use\", \"used\", \"useful\", \"usefully\", \"usefulness\", \"uses\", \"using\", \"usually\", \"ut\", \"v\", \"va\", \"value\", \"various\", \"vd\", \"ve\", \"ve\", \"very\", \"via\", \"viz\", \"vj\", \"vo\", \"vol\", \"vols\", \"volumtype\", \"vq\", \"vs\", \"vt\", \"vu\", \"w\", \"wa\", \"want\", \"wants\", \"was\", \"wasn\", \"wasnt\", \"wasn't\", \"way\", \"we\", \"wed\", \"we'd\", \"welcome\", \"well\", \"we'll\", \"well-b\", \"went\", \"were\", \"we're\", \"weren\", \"werent\", \"weren't\", \"we've\", \"what\", \"whatever\", \"what'll\", \"whats\", \"what's\", \"when\", \"whence\", \"whenever\", \"when's\", \"where\", \"whereafter\", \"whereas\", \"whereby\", \"wherein\", \"wheres\", \"where's\", \"whereupon\", \"wherever\", \"whether\", \"which\", \"while\", \"whim\", \"whither\", \"who\", \"whod\", \"whoever\", \"whole\", \"who'll\", \"whom\", \"whomever\", \"whos\", \"who's\", \"whose\", \"why\", \"why's\", \"wi\", \"widely\", \"will\", \"willing\", \"wish\", \"with\", \"within\", \"without\", \"wo\", \"won\", \"wonder\", \"wont\", \"won't\", \"words\", \"world\", \"would\", \"wouldn\", \"wouldnt\", \"wouldn't\", \"www\", \"x\", \"x1\", \"x2\", \"x3\", \"xf\", \"xi\", \"xj\", \"xk\", \"xl\", \"xn\", \"xo\", \"xs\", \"xt\", \"xv\", \"xx\", \"y\", \"y2\", \"yes\", \"yet\", \"yj\", \"yl\", \"you\", \"youd\", \"you'd\", \"you'll\", \"your\", \"youre\", \"you're\", \"yours\", \"yourself\", \"yourselves\", \"you've\", \"yr\", \"ys\", \"yt\", \"z\", \"zero\", \"zi\", \"zz\"]"
   ]
  },
  {
   "cell_type": "code",
   "execution_count": 14,
   "metadata": {},
   "outputs": [],
   "source": [
    "# Text simplification\n",
    "def preprocess_text(text):\n",
    "    # Remove emoticons, symbols, etc.\n",
    "\t# source https://medium.com/codex/making-wordcloud-of-tweets-using-python-ca114b7a4ef4\n",
    "\tregex_pattern = re.compile(pattern = \"[\"\n",
    "\t\t\tu\"\\U0001F600-\\U0001F64F\"  # emoticons\n",
    "\t\t\tu\"\\U0001F300-\\U0001F5FF\"  # symbols & pictographs\n",
    "\t\t\tu\"\\U0001F680-\\U0001F6FF\"  # transport & map symbols\n",
    "\t\t\tu\"\\U0001F1E0-\\U0001F1FF\"  # flags (iOS)\n",
    "\t\t\t\t\t\t\t\"]+\", flags = re.UNICODE)\n",
    "\ttext = re.sub(regex_pattern, '', text)\n",
    "\n",
    "\ttext = text.encode('ascii','ignore') # remove zero-width-space x200b\n",
    "\ttext = text.decode('utf-8')\t\n",
    "\n",
    "\t# Lowercase\n",
    "\ttext = text.lower()\n",
    "\t# Remove punctuation\n",
    "\ttext = re.sub(r'[^\\w\\s]', '', text)\n",
    "\t# Tokenize words\n",
    "\ttokens = nltk.word_tokenize(text)\n",
    "\t# Remove stopwords (default and custom)\n",
    "\tstopwords_set = set(stopwords.words('english'))\n",
    "\tstopwords_set.update(custom_stopwords)\n",
    "    # Filter tokens\n",
    "\tnew_tokens = [token for token in tokens if token not in stopwords_set]\n",
    "\t# Stemming\n",
    "\tporter_stemmer = PorterStemmer()\n",
    "\ttokens_after_stemming = [porter_stemmer.stem(token) for token in new_tokens]\n",
    "\n",
    "\treturn ' '.join(tokens_after_stemming)"
   ]
  },
  {
   "cell_type": "code",
   "execution_count": 15,
   "metadata": {},
   "outputs": [
    {
     "data": {
      "text/plain": [
       "<wordcloud.wordcloud.WordCloud at 0x17080b855a0>"
      ]
     },
     "execution_count": 15,
     "metadata": {},
     "output_type": "execute_result"
    }
   ],
   "source": [
    "df['self_text'] = df['self_text'].astype(object).replace(np.nan, '')\n",
    "df_nsfw_text = df[df['nsfw'] == True]['title'] + ' ' + df[(df['nsfw'] == True)]['self_text']\n",
    "df_nsfw_text = df_nsfw_text.astype(object).replace(np.nan, '')\n",
    "preproc_text = []\n",
    "for sample in df_nsfw_text:\n",
    "\tpreproc_text.append(preprocess_text(sample))\n",
    "vectorizer = TfidfVectorizer()\n",
    "X = vectorizer.fit_transform(preproc_text)\n",
    "WORDCLOUD_DIRECTORY = 'C:\\\\Users\\\\joana\\\\Documents\\\\GitHub\\\\CSCI6405\\\\src\\\\data'\n",
    "\n",
    "combined_text = \" \".join(preproc_text)  \n",
    "words = combined_text.lower().split()\n",
    "word_freq = Counter(words)\n",
    "\n",
    "wordcloud = WordCloud(width = 800, height = 400, background_color = 'white').generate_from_frequencies(word_freq)  \n",
    "output_filename = os.path.join(WORDCLOUD_DIRECTORY, f'nsfw_word_cloud3.png')\n",
    "wordcloud.to_file(output_filename)"
   ]
  },
  {
   "cell_type": "markdown",
   "metadata": {},
   "source": [
    "### All post text analysis"
   ]
  },
  {
   "cell_type": "code",
   "execution_count": 16,
   "metadata": {},
   "outputs": [
    {
     "data": {
      "text/plain": [
       "<wordcloud.wordcloud.WordCloud at 0x17080b0a560>"
      ]
     },
     "execution_count": 16,
     "metadata": {},
     "output_type": "execute_result"
    }
   ],
   "source": [
    "df['self_text'] = df['self_text'].astype(object).replace(np.nan, '')\n",
    "df_text = df['title'] + ' ' + df['self_text']\n",
    "preproc_text = []\n",
    "for sample in df_text:\n",
    "\tpreproc_text.append(preprocess_text(sample))\n",
    "vectorizer = TfidfVectorizer()\n",
    "X = vectorizer.fit_transform(preproc_text)\n",
    "WORDCLOUD_DIRECTORY = 'C:\\\\Users\\\\joana\\\\Documents\\\\GitHub\\\\CSCI6405\\\\src\\\\data'\n",
    "\n",
    "combined_text = \" \".join(preproc_text)  \n",
    "words = combined_text.lower().split()\n",
    "word_freq = Counter(words)\n",
    "\n",
    "wordcloud = WordCloud(width = 800, height = 400, background_color = 'white').generate_from_frequencies(word_freq)  \n",
    "output_filename = os.path.join(WORDCLOUD_DIRECTORY, f'all_word_cloud3.png')\n",
    "wordcloud.to_file(output_filename)"
   ]
  },
  {
   "cell_type": "code",
   "execution_count": null,
   "metadata": {},
   "outputs": [],
   "source": []
  }
 ],
 "metadata": {
  "kernelspec": {
   "display_name": "Python 3",
   "language": "python",
   "name": "python3"
  },
  "language_info": {
   "codemirror_mode": {
    "name": "ipython",
    "version": 3
   },
   "file_extension": ".py",
   "mimetype": "text/x-python",
   "name": "python",
   "nbconvert_exporter": "python",
   "pygments_lexer": "ipython3",
   "version": "3.10.11"
  }
 },
 "nbformat": 4,
 "nbformat_minor": 2
}
